{
 "cells": [
  {
   "cell_type": "markdown",
   "id": "621143ad",
   "metadata": {},
   "source": [
    "TOPIC: Python Basics Variable"
   ]
  },
  {
   "cell_type": "raw",
   "id": "4f4ad8fd",
   "metadata": {},
   "source": [
    "#1\n",
    "\n",
    "Declare two variables, `x` and `y`, and assign them integer values. Swap the\n",
    "values of these variables without using any temporary variable."
   ]
  },
  {
   "cell_type": "code",
   "execution_count": 1,
   "id": "9aa030cd",
   "metadata": {},
   "outputs": [
    {
     "name": "stdout",
     "output_type": "stream",
     "text": [
      "The value of x is: 12\n",
      "The value of y is: 20\n",
      "\n",
      "\n",
      "After performing the swapping logic, the output is as below: \n",
      "\n",
      "\n",
      "The value of x is 20,\n",
      "The value of y is 12\n"
     ]
    }
   ],
   "source": [
    "# Let us ask user for the value of x and y\n",
    "\n",
    "x = int(input(\"The value of x is: \"))\n",
    "y = int(input(\"The value of y is: \"))\n",
    "\n",
    "\n",
    "#Swaping values of these variables\n",
    "\n",
    "x,y = y,x\n",
    "print(\"\\n\")\n",
    "print(\"After performing the swapping logic, the output is as below: \")\n",
    "print(\"\\n\")\n",
    "print(f'''The value of x is {x},\n",
    "The value of y is {y}''')"
   ]
  },
  {
   "cell_type": "raw",
   "id": "28a2971f",
   "metadata": {},
   "source": [
    "#2\n",
    "\n",
    "Create a program that calculates the area of a rectangle. Take the length and\n",
    "width as inputs from the user and store them in variables. Calculate and\n",
    "display the area."
   ]
  },
  {
   "cell_type": "code",
   "execution_count": 2,
   "id": "c14cd9de",
   "metadata": {},
   "outputs": [
    {
     "name": "stdout",
     "output_type": "stream",
     "text": [
      "The lenght of the rectangle (in cm): 12\n",
      "The width of the rectangle (in cm): 19\n",
      "\n",
      "\n",
      "Area of the rectangle is 228.0 cm square\n"
     ]
    }
   ],
   "source": [
    "# Let us ask our user for the length and width of the rectangle.\n",
    "\n",
    "Length = float(input(\"The lenght of the rectangle (in cm): \"))\n",
    "Width = float(input(\"The width of the rectangle (in cm): \"))\n",
    "\n",
    "#Area of Rectangle\n",
    "\n",
    "Area = Length*Width #Formula for area of rectangle. \n",
    "print(\"\\n\")\n",
    "print(f\"Area of the rectangle is {Area} cm square\")\n"
   ]
  },
  {
   "cell_type": "raw",
   "id": "8734b95f",
   "metadata": {},
   "source": [
    "#3\n",
    "\n",
    "Write a Python program that converts temperatures from Celsius to\n",
    "Fahrenheit. Take the temperature in Celsius as input, store it in a variable,\n",
    "convert it to Fahrenheit, and display the result."
   ]
  },
  {
   "cell_type": "code",
   "execution_count": 3,
   "id": "1c3199a2",
   "metadata": {},
   "outputs": [
    {
     "name": "stdout",
     "output_type": "stream",
     "text": [
      "The temperature in celsius is: 0\n",
      "\n",
      "\n",
      "The temperature for 0.0°C in Fahrenheit is 32.0°F\n"
     ]
    }
   ],
   "source": [
    "# Let us ask our user for the temperature in Celsius unit.\n",
    "\n",
    "Temperature_Celsius = float(input(\"The temperature in celsius is: \"))\n",
    "\n",
    "#To convert Celsius into Fahrenheit, we use the below mentioned formula.\n",
    "#(0°C × 9/5) + 32 = 32°F \n",
    "\n",
    "Temperature_Fahrenheit = ((Temperature_Celsius)*9/5) + 32\n",
    "\n",
    "print(\"\\n\")\n",
    "print(f\"The temperature for {Temperature_Celsius}°C in Fahrenheit is {Temperature_Fahrenheit}°F\")"
   ]
  },
  {
   "cell_type": "markdown",
   "id": "73abfb3f",
   "metadata": {},
   "source": [
    "TOPIC: String Based Questions"
   ]
  },
  {
   "cell_type": "raw",
   "id": "b1154249",
   "metadata": {},
   "source": [
    "#1\n",
    "\n",
    "Write a Python program that takes a string as input and prints the length of\n",
    "the string."
   ]
  },
  {
   "cell_type": "code",
   "execution_count": 4,
   "id": "fb66fc87",
   "metadata": {},
   "outputs": [
    {
     "name": "stdout",
     "output_type": "stream",
     "text": [
      "The string is: Parvesh\n",
      "\n",
      "\n",
      "The length of 'Parvesh' is 7 characters.\n"
     ]
    }
   ],
   "source": [
    "#Let us ask user for the string\n",
    "\n",
    "String = input(\"The string is: \")\n",
    "\n",
    "#length of the string is.\n",
    "\n",
    "print(\"\\n\")\n",
    "print(f\"The length of '{String}' is {len(String)} characters.\")"
   ]
  },
  {
   "cell_type": "raw",
   "id": "b482cfd9",
   "metadata": {},
   "source": [
    "#2 \n",
    "\n",
    "Create a program that takes a sentence from the user and counts the number\n",
    "of vowels (a, e, i, o, u) in the string.\n"
   ]
  },
  {
   "cell_type": "code",
   "execution_count": 5,
   "id": "ccb2760a",
   "metadata": {},
   "outputs": [
    {
     "name": "stdout",
     "output_type": "stream",
     "text": [
      "Write your senetence here: let us see how many vowels are there in this sentence\n",
      "\n",
      "\n",
      "The list of vowels is as: \n",
      " ['e', 'u', 'e', 'e', 'o', 'a', 'o', 'e', 'a', 'e', 'e', 'e', 'i', 'i', 'e', 'e', 'e']\n",
      "\n",
      "\n",
      "And the count of total vowels in string 'let us see how many vowels are there in this sentence'\n",
      " 17\n"
     ]
    }
   ],
   "source": [
    "#Take sentence as input from user.\n",
    "\n",
    "Sentence = input(\"Write your senetence here: \")\n",
    "vowels_list = (\"a\",\"i\",\"o\",\"u\",\"e\",\"A\",\"I\",\"O\",\"E\",\"U\") # create a tuple of vowels to be used later.\n",
    "\n",
    "vowels = [] # Create a blank list to store vowels from our user defined string.\n",
    "\n",
    "for i in Sentence:\n",
    "  if i in vowels_list:\n",
    "    vowels.append(i)\n",
    "    \n",
    "print(\"\\n\")\n",
    "print(\"The list of vowels is as: \\n\",vowels)\n",
    "print(\"\\n\")\n",
    "print(f\"And the count of total vowels in string '{Sentence}'\\n {len(vowels)}\")"
   ]
  },
  {
   "cell_type": "raw",
   "id": "f90e02ed",
   "metadata": {},
   "source": [
    "#3 \n",
    "\n",
    "Given a string, reverse the order of characters using string slicing and print\n",
    "the reversed string."
   ]
  },
  {
   "cell_type": "code",
   "execution_count": 6,
   "id": "e0f9a6df",
   "metadata": {},
   "outputs": [
    {
     "name": "stdout",
     "output_type": "stream",
     "text": [
      "The string is: parvesh\n",
      "\n",
      "\n",
      "The reverse of parvesh is hsevrap.\n"
     ]
    }
   ],
   "source": [
    "# Let us ask user for the input as an string\n",
    "\n",
    "String_1 =  input(\"The string is: \")\n",
    "\n",
    "#Reversing the order of characters using string slicing.\n",
    "\n",
    "print(\"\\n\")\n",
    "print(f\"The reverse of {String_1} is {String_1[::-1]}.\")"
   ]
  },
  {
   "cell_type": "raw",
   "id": "21dae79c",
   "metadata": {},
   "source": [
    "#4 \n",
    "\n",
    "Write a program that takes a string as input and checks if it is a palindrome\n",
    "(reads the same forwards and backwards)."
   ]
  },
  {
   "cell_type": "code",
   "execution_count": 7,
   "id": "6f71c49f",
   "metadata": {},
   "outputs": [
    {
     "name": "stdout",
     "output_type": "stream",
     "text": [
      "Write the word here: nitin\n",
      "\n",
      "\n",
      "nitin is a Palindrome\n"
     ]
    }
   ],
   "source": [
    "# Let us ask for the string as on input by user\n",
    "\n",
    "Palindrome = input(\"Write the word here: \")\n",
    "\n",
    "#To check if it is a palindrome.\n",
    "\n",
    "Palindrone_upper = Palindrome.upper()  # Converted it into upper case to avoid the case-sensitive feature of python language.\n",
    "\n",
    "print(\"\\n\")\n",
    "if Palindrone_upper == Palindrone_upper[::-1]:\n",
    "    print(f\"{Palindrome} is a Palindrome\")\n",
    "else:\n",
    "    print(f\"No {Palindrome} is not a Palindrome\")"
   ]
  },
  {
   "cell_type": "raw",
   "id": "834dca63",
   "metadata": {},
   "source": [
    "#5 \n",
    "\n",
    "Create a program that takes a string as input and removes all the spaces from\n",
    "it. Print the modified string without spaces."
   ]
  },
  {
   "cell_type": "code",
   "execution_count": 8,
   "id": "efd7eb99",
   "metadata": {},
   "outputs": [
    {
     "name": "stdout",
     "output_type": "stream",
     "text": [
      "Write a string with whitespaces around and in it: P a r v e s h\n",
      "\n",
      "\n",
      "'P a r v e s h' after removing of spaces is written as 'Parvesh'\n"
     ]
    }
   ],
   "source": [
    "# Let us user ask for a string with white spaces\n",
    "\n",
    "String_Space = input(\"Write a string with whitespaces around and in it: \")\n",
    "\n",
    "#To remove the whitespace, use the remove function\n",
    "\n",
    "String2 = String_Space.replace(\" \",\"\")\n",
    "\n",
    "#print output\n",
    "print(\"\\n\")\n",
    "print(f\"'{String_Space}' after removing of spaces is written as '{String2}'\")"
   ]
  }
 ],
 "metadata": {
  "kernelspec": {
   "display_name": "Python 3 (ipykernel)",
   "language": "python",
   "name": "python3"
  },
  "language_info": {
   "codemirror_mode": {
    "name": "ipython",
    "version": 3
   },
   "file_extension": ".py",
   "mimetype": "text/x-python",
   "name": "python",
   "nbconvert_exporter": "python",
   "pygments_lexer": "ipython3",
   "version": "3.9.7"
  }
 },
 "nbformat": 4,
 "nbformat_minor": 5
}
